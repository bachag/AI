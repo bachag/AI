{
 "cells": [
  {
   "cell_type": "code",
   "execution_count": 1,
   "metadata": {},
   "outputs": [
    {
     "name": "stdout",
     "output_type": "stream",
     "text": [
      "hello Pytho this is my first Assingment\n"
     ]
    }
   ],
   "source": [
    "print(\"Start of the Assingment List using Python Built-in Function\")\n",
    "print(\"hello Pytho this is my first Assingment\")"
   ]
  },
  {
   "cell_type": "code",
   "execution_count": 3,
   "metadata": {},
   "outputs": [
    {
     "name": "stdout",
     "output_type": "stream",
     "text": [
      "Absolute value of -20 is: 20\n",
      "Absolute value of -30.33 is: 30.33\n",
      "Magnitude of 3 - 4j is: 5.0\n"
     ]
    }
   ],
   "source": [
    "# random integer\n",
    "integer = -20\n",
    "print('Absolute value of -20 is:', abs(integer))\n",
    "\n",
    "#random floating number\n",
    "floating = -30.33\n",
    "print('Absolute value of -30.33 is:', abs(floating))\n"
   ]
  },
  {
   "cell_type": "code",
   "execution_count": 4,
   "metadata": {},
   "outputs": [
    {
     "name": "stdout",
     "output_type": "stream",
     "text": [
      "Magnitude of 3 - 4j is: 5.0\n"
     ]
    }
   ],
   "source": [
    "# random complex number\n",
    "complex = (3 - 4j)\n",
    "print('Magnitude of 3 - 4j is:', abs(complex))"
   ]
  },
  {
   "cell_type": "code",
   "execution_count": 6,
   "metadata": {},
   "outputs": [
    {
     "name": "stdout",
     "output_type": "stream",
     "text": [
      "True\n",
      "False\n",
      "True\n",
      "False\n"
     ]
    }
   ],
   "source": [
    "# How any() works with Python\n",
    "l = [1, 3, 4, 0]\n",
    "print(any(l))\n",
    "\n",
    "l = [0, False]\n",
    "print(any(l))\n",
    "\n",
    "l = [0, False, 5]\n",
    "print(any(l))\n",
    "\n",
    "l = []\n",
    "print(any(l))"
   ]
  },
  {
   "cell_type": "code",
   "execution_count": 7,
   "metadata": {},
   "outputs": [
    {
     "name": "stdout",
     "output_type": "stream",
     "text": [
      "True\n",
      "True\n",
      "False\n"
     ]
    }
   ],
   "source": [
    "# How any() works with python using strings value\n",
    "s = \"This is good\"\n",
    "print(any(s))\n",
    "\n",
    "# 0 is False\n",
    "# '0' is True\n",
    "s = '000'\n",
    "print(any(s))\n",
    "\n",
    "s = ''\n",
    "print(any(s))"
   ]
  },
  {
   "cell_type": "code",
   "execution_count": 8,
   "metadata": {},
   "outputs": [
    {
     "name": "stdout",
     "output_type": "stream",
     "text": [
      "False\n",
      "True\n",
      "False\n",
      "False\n",
      "True\n"
     ]
    }
   ],
   "source": [
    "#How any() works with Python Dictionaries\n",
    "d = {0: 'False'}\n",
    "print(any(d))\n",
    "\n",
    "d = {0: 'False', 1: 'True'}\n",
    "print(any(d))\n",
    "\n",
    "d = {0: 'False', False: 0}\n",
    "print(any(d))\n",
    "\n",
    "d = {}\n",
    "print(any(d))\n",
    "\n",
    "# 0 is False\n",
    "# '0' is True\n",
    "d = {'0': 'False'}\n",
    "print(any(d))"
   ]
  },
  {
   "cell_type": "code",
   "execution_count": 9,
   "metadata": {},
   "outputs": [
    {
     "name": "stdout",
     "output_type": "stream",
     "text": [
      "True\n",
      "False\n",
      "False\n",
      "False\n",
      "True\n"
     ]
    }
   ],
   "source": [
    "# How all() works for lists?\n",
    "# all values true\n",
    "l = [1, 3, 4, 5]\n",
    "print(all(l))\n",
    "\n",
    "# all values false\n",
    "l = [0, False]\n",
    "print(all(l))\n",
    "\n",
    "# one false value\n",
    "l = [1, 3, 4, 0]\n",
    "print(all(l))\n",
    "\n",
    "# one true value\n",
    "l = [0, False, 5]\n",
    "print(all(l))\n",
    "\n",
    "# empty iterable\n",
    "l = []\n",
    "print(all(l))"
   ]
  },
  {
   "cell_type": "code",
   "execution_count": 10,
   "metadata": {},
   "outputs": [
    {
     "name": "stdout",
     "output_type": "stream",
     "text": [
      "True\n",
      "True\n",
      "True\n"
     ]
    }
   ],
   "source": [
    "#How all() works for strings\n",
    "s = \"This is good\"\n",
    "print(all(s))\n",
    "\n",
    "# 0 is False\n",
    "# '0' is True\n",
    "s = '000'\n",
    "print(all(s))\n",
    "\n",
    "s = ''\n",
    "print(all(s))"
   ]
  },
  {
   "cell_type": "code",
   "execution_count": 11,
   "metadata": {},
   "outputs": [
    {
     "name": "stdout",
     "output_type": "stream",
     "text": [
      "False\n",
      "True\n",
      "False\n",
      "True\n",
      "True\n"
     ]
    }
   ],
   "source": [
    "#How all() works with Python dictionaries\n",
    "s = {0: 'False', 1: 'False'}\n",
    "print(all(s))\n",
    "\n",
    "s = {1: 'True', 2: 'True'}\n",
    "print(all(s))\n",
    "\n",
    "s = {1: 'True', False: 0}\n",
    "print(all(s))\n",
    "\n",
    "s = {}\n",
    "print(all(s))\n",
    "\n",
    "# 0 is False\n",
    "# '0' is True\n",
    "s = {'0': 'True'}\n",
    "print(all(s))"
   ]
  },
  {
   "cell_type": "code",
   "execution_count": 12,
   "metadata": {},
   "outputs": [
    {
     "name": "stdout",
     "output_type": "stream",
     "text": [
      "'Python is interesting'\n",
      "'Pyth\\xf6n is interesting'\n",
      "Pythön is interesting\n"
     ]
    }
   ],
   "source": [
    "#How ascii() method works\n",
    "normalText = 'Python is interesting'\n",
    "print(ascii(normalText))\n",
    "\n",
    "otherText = 'Pythön is interesting'\n",
    "print(ascii(otherText))\n",
    "\n",
    "print('Pyth\\xf6n is interesting')"
   ]
  },
  {
   "cell_type": "code",
   "execution_count": 13,
   "metadata": {},
   "outputs": [
    {
     "name": "stdout",
     "output_type": "stream",
     "text": [
      "The binary equivalent of 5 is: 0b101\n"
     ]
    }
   ],
   "source": [
    "#Convert integer to binary using bin()\n",
    "number = 5\n",
    "print('The binary equivalent of 5 is:', bin(number))"
   ]
  },
  {
   "cell_type": "code",
   "execution_count": 14,
   "metadata": {},
   "outputs": [
    {
     "name": "stdout",
     "output_type": "stream",
     "text": [
      "The binary equivalent of quantity is: 0b101\n"
     ]
    }
   ],
   "source": [
    "#Convert an object to binary implementing __index__() method\n",
    "class Quantity:\n",
    "    apple = 1\n",
    "    orange = 2\n",
    "    grapes = 2\n",
    "    \n",
    "    def __index__(self):\n",
    "        return self.apple + self.orange + self.grapes\n",
    "        \n",
    "print('The binary equivalent of quantity is:', bin(Quantity()))"
   ]
  },
  {
   "cell_type": "code",
   "execution_count": 15,
   "metadata": {},
   "outputs": [
    {
     "name": "stdout",
     "output_type": "stream",
     "text": [
      "[] is False\n",
      "[0] is True\n",
      "0.0 is False\n",
      "None is False\n",
      "True is True\n",
      "Easy string is True\n"
     ]
    }
   ],
   "source": [
    "#How bool() works\n",
    "test = []\n",
    "print(test,'is',bool(test))\n",
    "\n",
    "test = [0]\n",
    "print(test,'is',bool(test))\n",
    "\n",
    "test = 0.0\n",
    "print(test,'is',bool(test))\n",
    "\n",
    "test = None\n",
    "print(test,'is',bool(test))\n",
    "\n",
    "test = True\n",
    "print(test,'is',bool(test))\n",
    "\n",
    "test = 'Easy string'\n",
    "print(test,'is',bool(test))"
   ]
  },
  {
   "cell_type": "code",
   "execution_count": 16,
   "metadata": {},
   "outputs": [
    {
     "name": "stdout",
     "output_type": "stream",
     "text": [
      "bytearray(b'Python is interesting.')\n"
     ]
    }
   ],
   "source": [
    "#Array of bytes from a string\n",
    "string = \"Python is interesting.\"\n",
    "\n",
    "# string with encoding 'utf-8'\n",
    "arr = bytearray(string, 'utf-8')\n",
    "print(arr)"
   ]
  },
  {
   "cell_type": "code",
   "execution_count": 17,
   "metadata": {},
   "outputs": [
    {
     "name": "stdout",
     "output_type": "stream",
     "text": [
      "bytearray(b'\\x00\\x00\\x00\\x00\\x00')\n"
     ]
    }
   ],
   "source": [
    "#Array of bytes of given integer size\n",
    "size = 5\n",
    "\n",
    "arr = bytearray(size)\n",
    "print(arr)"
   ]
  },
  {
   "cell_type": "code",
   "execution_count": 18,
   "metadata": {},
   "outputs": [
    {
     "name": "stdout",
     "output_type": "stream",
     "text": [
      "bytearray(b'\\x01\\x02\\x03\\x04\\x05')\n"
     ]
    }
   ],
   "source": [
    "# Array of bytes from an iterable list\n",
    "rList = [1, 2, 3, 4, 5]\n",
    "\n",
    "arr = bytearray(rList)\n",
    "print(arr)"
   ]
  },
  {
   "cell_type": "code",
   "execution_count": 19,
   "metadata": {},
   "outputs": [
    {
     "name": "stdout",
     "output_type": "stream",
     "text": [
      "False\n",
      "True\n"
     ]
    }
   ],
   "source": [
    "#How callable() works?\n",
    "x = 5\n",
    "print(callable(x))\n",
    "\n",
    "def testFunction():\n",
    "  print(\"Test\")\n",
    "\n",
    "y = testFunction\n",
    "print(callable(y))"
   ]
  },
  {
   "cell_type": "code",
   "execution_count": 20,
   "metadata": {},
   "outputs": [
    {
     "name": "stdout",
     "output_type": "stream",
     "text": [
      "a\n",
      "A\n",
      "Ұ\n"
     ]
    }
   ],
   "source": [
    "#How chr() works?\n",
    "print(chr(97))\n",
    "print(chr(65))\n",
    "print(chr(1200))"
   ]
  },
  {
   "cell_type": "code",
   "execution_count": 21,
   "metadata": {},
   "outputs": [
    {
     "ename": "ValueError",
     "evalue": "chr() arg not in range(0x110000)",
     "output_type": "error",
     "traceback": [
      "\u001b[1;31m---------------------------------------------------------------------------\u001b[0m",
      "\u001b[1;31mValueError\u001b[0m                                Traceback (most recent call last)",
      "\u001b[1;32m<ipython-input-21-89889b7c025a>\u001b[0m in \u001b[0;36m<module>\u001b[1;34m\u001b[0m\n\u001b[0;32m      1\u001b[0m \u001b[1;31m#Integer passed to chr() is out of the range\u001b[0m\u001b[1;33m\u001b[0m\u001b[1;33m\u001b[0m\u001b[1;33m\u001b[0m\u001b[0m\n\u001b[1;32m----> 2\u001b[1;33m \u001b[0mprint\u001b[0m\u001b[1;33m(\u001b[0m\u001b[0mchr\u001b[0m\u001b[1;33m(\u001b[0m\u001b[1;33m-\u001b[0m\u001b[1;36m1\u001b[0m\u001b[1;33m)\u001b[0m\u001b[1;33m)\u001b[0m\u001b[1;33m\u001b[0m\u001b[1;33m\u001b[0m\u001b[0m\n\u001b[0m",
      "\u001b[1;31mValueError\u001b[0m: chr() arg not in range(0x110000)"
     ]
    }
   ],
   "source": [
    "#Integer passed to chr() is out of the range\n",
    "print(chr(-1))"
   ]
  },
  {
   "cell_type": "code",
   "execution_count": 22,
   "metadata": {},
   "outputs": [
    {
     "name": "stdout",
     "output_type": "stream",
     "text": [
      "sum = 11\n"
     ]
    }
   ],
   "source": [
    "#How compile() works?\n",
    "codeInString = 'a = 5\\nb=6\\nsum=a+b\\nprint(\"sum =\",sum)'\n",
    "codeObejct = compile(codeInString, 'sumstring', 'exec')\n",
    "\n",
    "exec(codeObejct)"
   ]
  },
  {
   "cell_type": "code",
   "execution_count": null,
   "metadata": {},
   "outputs": [],
   "source": [
    "# vowel list\n",
    "vowel = ['a', 'e', 'i', 'u']\n",
    "\n",
    "# inserting element to list at 4th position\n",
    "vowel.insert(3, 'o')\n",
    "\n",
    "print('Updated List: ', vowel)"
   ]
  },
  {
   "cell_type": "code",
   "execution_count": 1,
   "metadata": {},
   "outputs": [
    {
     "name": "stdout",
     "output_type": "stream",
     "text": [
      "Updated List:  [{1, 2}, (3, 4), [5, 6, 7]]\n"
     ]
    }
   ],
   "source": [
    "#Inserting a Tuple (as an Element) to the List\n",
    "mixed_list = [{1, 2}, [5, 6, 7]]\n",
    "\n",
    "# number tuple\n",
    "number_tuple = (3, 4)\n",
    "\n",
    "# inserting tuple to the list\n",
    "mixed_list.insert(1, number_tuple)\n",
    "\n",
    "print('Updated List: ', mixed_list)"
   ]
  },
  {
   "cell_type": "code",
   "execution_count": 2,
   "metadata": {},
   "outputs": [
    {
     "name": "stdout",
     "output_type": "stream",
     "text": [
      "List: []\n"
     ]
    }
   ],
   "source": [
    "# Defining a list\n",
    "list = [{1, 2}, ('a'), ['1.1', '2.2']]\n",
    "\n",
    "# clearing the list\n",
    "list.clear()\n",
    "\n",
    "print('List:', list)"
   ]
  },
  {
   "cell_type": "code",
   "execution_count": 3,
   "metadata": {},
   "outputs": [
    {
     "name": "stdout",
     "output_type": "stream",
     "text": [
      "List: []\n"
     ]
    }
   ],
   "source": [
    "# Defining a list\n",
    "list = [{1, 2}, ('a'), ['1.1', '2.2']]\n",
    "\n",
    "# clearing the list\n",
    "del list[:]\n",
    "\n",
    "print('List:', list)"
   ]
  },
  {
   "cell_type": "code",
   "execution_count": 5,
   "metadata": {},
   "outputs": [
    {
     "name": "stdout",
     "output_type": "stream",
     "text": [
      "Updated animals list:  ['cat', 'dog', 'rabbit', 'guinea pig']\n"
     ]
    }
   ],
   "source": [
    "#Adding Element to a List\n",
    "# animals list\n",
    "animals = ['cat', 'dog', 'rabbit']\n",
    "\n",
    "# 'guinea pig' is appended to the animals list\n",
    "animals.append('guinea pig')\n",
    "\n",
    "# Updated animals list\n",
    "print('Updated animals list: ', animals)"
   ]
  },
  {
   "cell_type": "code",
   "execution_count": 6,
   "metadata": {},
   "outputs": [
    {
     "name": "stdout",
     "output_type": "stream",
     "text": [
      "New List: [1, 2, 3, 'a']\n",
      "Old List: [1, 2, 3, 'a']\n"
     ]
    }
   ],
   "source": [
    "#Python List copy()\n",
    "old_list = [1, 2, 3]\n",
    "new_list = old_list\n",
    "\n",
    "# add element to list\n",
    "new_list.append('a')\n",
    "\n",
    "print('New List:', new_list )\n",
    "print('Old List:', old_list )"
   ]
  },
  {
   "cell_type": "code",
   "execution_count": 7,
   "metadata": {},
   "outputs": [
    {
     "name": "stdout",
     "output_type": "stream",
     "text": [
      "Return Value: French\n",
      "Updated List: ['Python', 'Java', 'C++', 'C']\n"
     ]
    }
   ],
   "source": [
    "#Pop item at the given index from the list\n",
    "# programming languages list\n",
    "languages = ['Python', 'Java', 'C++', 'French', 'C']\n",
    "# remove and return the 4th item\n",
    "return_value = languages.pop(3)\n",
    "print('Return Value:', return_value)\n",
    "# Updated List\n",
    "print('Updated List:', languages)"
   ]
  },
  {
   "cell_type": "code",
   "execution_count": null,
   "metadata": {},
   "outputs": [],
   "source": [
    "print(\"End of the Assingment List using Python Built-in Function\")"
   ]
  }
 ],
 "metadata": {
  "kernelspec": {
   "display_name": "Python 3",
   "language": "python",
   "name": "python3"
  },
  "language_info": {
   "codemirror_mode": {
    "name": "ipython",
    "version": 3
   },
   "file_extension": ".py",
   "mimetype": "text/x-python",
   "name": "python",
   "nbconvert_exporter": "python",
   "pygments_lexer": "ipython3",
   "version": "3.7.4"
  }
 },
 "nbformat": 4,
 "nbformat_minor": 2
}
